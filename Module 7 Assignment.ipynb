{
 "cells": [
  {
   "cell_type": "markdown",
   "id": "3ce3aa01-7f67-4862-afc9-14b649362884",
   "metadata": {},
   "source": [
    "# Theoritical questions"
   ]
  },
  {
   "cell_type": "markdown",
   "id": "a4731c19-3a1b-46b2-9968-cadf8ec488bc",
   "metadata": {},
   "source": [
    "### 1. What is the difference between interpreted and compiled languages"
   ]
  },
  {
   "cell_type": "code",
   "execution_count": 3,
   "id": "6e91aa5e-61ce-4044-b6ec-1f39b013ff75",
   "metadata": {},
   "outputs": [],
   "source": [
    "#ANS\n",
    "#In interpreted language code is executed line by line without any compilation process involved but in \n",
    "#compiled language the source code is first transfromed into machine language (the process which is called as compilation) and then gets executed."
   ]
  },
  {
   "cell_type": "markdown",
   "id": "fc4db016-9ea1-487e-b1c5-3abd692e9c12",
   "metadata": {},
   "source": [
    "### 2. What is exception handling in Python"
   ]
  },
  {
   "cell_type": "code",
   "execution_count": 4,
   "id": "4881ea51-c6ea-4598-83b3-91ce6b25ca90",
   "metadata": {},
   "outputs": [],
   "source": [
    "#ANS exceptions are the errors that occurs during the execution of any code.\n",
    "#Exception handling in python is a way to manage the errors that occurs during the execution of any code or program\n",
    "# it allows to run the program and show the error rather that breaking the program"
   ]
  },
  {
   "cell_type": "markdown",
   "id": "6499c963-e9b2-44d1-884e-e62aec85c6e4",
   "metadata": {},
   "source": [
    "### 3. What is the purpose of the finally block in exception handling"
   ]
  },
  {
   "cell_type": "code",
   "execution_count": 5,
   "id": "1b49a817-0d1a-42c1-aa9a-03f4778c8466",
   "metadata": {},
   "outputs": [],
   "source": [
    "#ANS Finally block ensures that the block of code gets executed no matter what happens in the try and except block.\n",
    "# it helps in cleaning of up resources like closing the files ensuring that these actions gets executed if if an error occurs."
   ]
  },
  {
   "cell_type": "markdown",
   "id": "a6f7d2dd-5ee3-42d1-a2c2-e262ecd4b6a8",
   "metadata": {},
   "source": [
    "### 4.What is logging in Python"
   ]
  },
  {
   "cell_type": "code",
   "execution_count": 6,
   "id": "1d734980-a7ad-4bc7-ab5c-e65c1024be97",
   "metadata": {},
   "outputs": [],
   "source": [
    "#ANS logging in python is a process to to track the various events that a code goes through\n",
    "# it is used to record various events that occurs when an code gets executed.\n",
    "# logging can help us to track the various events which in turn will be helpful for debugging the program or code "
   ]
  },
  {
   "cell_type": "markdown",
   "id": "c9b87567-1fd5-4f0d-a985-83bcbbbe4b72",
   "metadata": {},
   "source": [
    "###  5.What is the significance of the __del__ method in Python"
   ]
  },
  {
   "cell_type": "code",
   "execution_count": 7,
   "id": "73443154-bfb4-4b95-acfe-f6083780b9ce",
   "metadata": {},
   "outputs": [],
   "source": [
    "#ANS The __del__ method in Python is a special method known as a destructor. \n",
    "#It is called when an object is about to be destroyed\n",
    "#allowing you to define cleanup actions that should be performed when the object is no longer needed."
   ]
  },
  {
   "cell_type": "markdown",
   "id": "9102330e-2153-4ded-99ee-82077de35b6b",
   "metadata": {},
   "source": [
    "### 6.What is the difference between import and from ... import in Python"
   ]
  },
  {
   "cell_type": "code",
   "execution_count": 8,
   "id": "caf7193e-ce4b-48b7-ae6e-47bbb7ffc3b4",
   "metadata": {},
   "outputs": [],
   "source": [
    "#ANS the difference between import and from ...import is :-\n",
    "# import function is a predefined function that i used to import any module in python\n",
    "# from ... import if the combination of two function that is from and import that is used to import certain modules from any package or directory"
   ]
  },
  {
   "cell_type": "markdown",
   "id": "02d4777f-ab6b-4327-98f8-4fa9bfc1c89c",
   "metadata": {},
   "source": [
    "### 7.How can you handle multiple exceptions in Python"
   ]
  },
  {
   "cell_type": "code",
   "execution_count": 9,
   "id": "87a1da2a-1fd0-4348-aeb3-e4330bb278f9",
   "metadata": {},
   "outputs": [],
   "source": [
    "#ANS we can handle exceptions in python using 'try' and 'except' method.\n",
    "# and in python we can handle multiple exceptions using multiple except block"
   ]
  },
  {
   "cell_type": "markdown",
   "id": "9d4492a9-08c1-4f81-ad7a-5864bb1932cc",
   "metadata": {},
   "source": [
    "### 8. What is the purpose of the with statement when handling files in Python"
   ]
  },
  {
   "cell_type": "code",
   "execution_count": 10,
   "id": "d9e06506-ea48-45c2-8d71-19dcd50def8c",
   "metadata": {},
   "outputs": [],
   "source": [
    "#ANS the with statement while handling files ensure the management of resources \n",
    "# it also ensure that the resources are properly closed even if an error occurs.\n",
    "\n",
    "# while handling files with with statment it provides a clear and concise way open and close file automatically"
   ]
  },
  {
   "cell_type": "markdown",
   "id": "e7ad576f-8715-44d4-a8ad-c2310f7b99e1",
   "metadata": {},
   "source": [
    "### 9. What is the difference between multithreading and multiprocessing"
   ]
  },
  {
   "cell_type": "code",
   "execution_count": 11,
   "id": "b5fcf2e6-6ac9-4203-ad16-d20abfe7c756",
   "metadata": {},
   "outputs": [],
   "source": [
    "#ANS multithreading happens when multiple threads runs on a single processor. here since threads are present with one processor--\n",
    "# therefore each threads share the same meory space and resources.\n",
    "\n",
    "# multiprocessing ensures running of multiple processes each with its own memory space and resources"
   ]
  },
  {
   "cell_type": "markdown",
   "id": "dbaa2eb0-ddd3-4293-8384-424741412517",
   "metadata": {},
   "source": [
    "### 10. What are the advantages of using logging in a program"
   ]
  },
  {
   "cell_type": "code",
   "execution_count": 13,
   "id": "b3f2ae74-e8ab-44fb-9530-5699cb209262",
   "metadata": {},
   "outputs": [],
   "source": [
    "#ANS logging in a program has various advantages. some of them are:-\n",
    "# 1. Debugging >> logging helps in debugging as it provides detailed information about the program execution\n",
    "# 2. error tracking >> since loging displays detailed information about the program's execution thereby it also helps in error tracking\n",
    "# 3. exception handling >> logging can also be used for handling various exceptions, etc."
   ]
  },
  {
   "cell_type": "markdown",
   "id": "7cc56491-0654-4294-9fa0-2d0994d57efb",
   "metadata": {},
   "source": [
    "### 11.What is memory management in Python"
   ]
  },
  {
   "cell_type": "code",
   "execution_count": 15,
   "id": "3a050e4b-dfc0-45e6-93c2-68ca81e5a3df",
   "metadata": {},
   "outputs": [],
   "source": [
    "#ANS Memory management in Python means the allocation and deallocation of memory to ensure efficient use of resources.\n",
    "# Python handles memory management automatically through a combination of techniques:"
   ]
  },
  {
   "cell_type": "markdown",
   "id": "e31c162c-2af6-4ecd-afad-a0173c89db96",
   "metadata": {},
   "source": [
    "### 12. What are the basic steps involved in exception handling in Python"
   ]
  },
  {
   "cell_type": "code",
   "execution_count": 17,
   "id": "8a2b434e-5f91-4ed6-a939-ca5203276b86",
   "metadata": {},
   "outputs": [],
   "source": [
    "#ANS The basic steps or blocks are :-\n",
    "# 1. Try block: enter the code that might cause error\n",
    "# 2. Except block : handle the exception using except block\n",
    "# 3. Else block : enter the code that should run if no exceptions occurs\n",
    "# 4. finally block : this block of code will execute even if error occurs. this is basically done to clean up reasources efficiently"
   ]
  },
  {
   "cell_type": "markdown",
   "id": "b0b4bc27-4cb3-4dd5-bd83-ddcf809cd30d",
   "metadata": {},
   "source": [
    "### 13.  Why is memory management important in Python"
   ]
  },
  {
   "cell_type": "code",
   "execution_count": 18,
   "id": "69ef4ce8-7e78-410b-a9ea-391b10a6fd5c",
   "metadata": {},
   "outputs": [],
   "source": [
    "#ANS  memory management is important in python as it ensure efficient utilization of resources by performing proper memory management\n",
    "# thus by ensuring effiecient uilization of resources it also optimises performance\n",
    "# by managing memory effectively python program can run faster and more smoothly as they avoid unnecessary memory allocation\n"
   ]
  },
  {
   "cell_type": "markdown",
   "id": "a3489bd7-b7e8-459f-942e-40255bccfece",
   "metadata": {},
   "source": [
    "### 14. What is the role of try and except in exception handling"
   ]
  },
  {
   "cell_type": "code",
   "execution_count": 19,
   "id": "202dd1bd-e2a9-4515-8fac-f0fe1ee06692",
   "metadata": {},
   "outputs": [],
   "source": [
    "#Ans The role of try and except is to simply handle the exceptions as :\n",
    "# in try block we write the code in which exception might occur and then\n",
    "# in except block we write the exception to handle the exception in an program"
   ]
  },
  {
   "cell_type": "markdown",
   "id": "ed451d67-015a-48e0-bfbc-b173ba8fd442",
   "metadata": {},
   "source": [
    "### 15.How does Python's garbage collection system work"
   ]
  },
  {
   "cell_type": "code",
   "execution_count": 31,
   "id": "3e941025-0420-4e2b-a8f3-78f5f5fb4e43",
   "metadata": {},
   "outputs": [],
   "source": [
    "#ANS : Python's garbage collection system is responsible for automatically managing memory allocation and deallocation,\n",
    "# ensuring that unused objects are properly cleaned up to free memory."
   ]
  },
  {
   "cell_type": "markdown",
   "id": "18a51669-7f13-4d90-a3e3-b0baa117e39f",
   "metadata": {},
   "source": [
    "### 16.What is the purpose of the else block in exception handling"
   ]
  },
  {
   "cell_type": "code",
   "execution_count": 32,
   "id": "f44a70aa-fe30-451b-be05-4ed7b7c59d22",
   "metadata": {},
   "outputs": [],
   "source": [
    "#Ans In else block we only define the code that should be executed if no exceptions occurs in try and except block\n",
    "# it provides a way to seperate the normal execution path from the error handling path"
   ]
  },
  {
   "cell_type": "markdown",
   "id": "bd043816-5068-48d6-8081-941fb489d6b3",
   "metadata": {},
   "source": [
    "### 17.What are the common logging levels in Python"
   ]
  },
  {
   "cell_type": "code",
   "execution_count": 33,
   "id": "355e2614-1c72-4fb4-908f-bcd3cf1665d7",
   "metadata": {},
   "outputs": [],
   "source": [
    "#ANS the common logging levels in python are :-\n",
    "# 1. Debug : it states the detailed information\n",
    "# 2. Info : is states that the program is working fine and as expected\n",
    "# 3. Warning : as states the possible problem that has happened or might happen in the program\n",
    "# 4. Error : it states that some error has occured in the program\n",
    "# 5. Critical : it states that a very serious error has occured and the program may not continue working"
   ]
  },
  {
   "cell_type": "markdown",
   "id": "4a4b03e3-83e2-4a26-9758-8ceed55f19a2",
   "metadata": {},
   "source": [
    "### 18. What is the difference between os.fork() and multiprocessing in Python"
   ]
  },
  {
   "cell_type": "code",
   "execution_count": 34,
   "id": "7a45824f-6ad9-4b5b-b3b5-c1cd3c117ac3",
   "metadata": {},
   "outputs": [],
   "source": [
    "# Both the os.fork() and multiprocessing modulein python is used to create new processes but:-\n",
    "# os.fork() is a low level system call that creates new process by dublicating the current process\n",
    "# multiprocessing on the other hand is much more higher level module that os.fork() for creating and managing processes"
   ]
  },
  {
   "cell_type": "markdown",
   "id": "d2aaca9e-5aad-4a43-a617-24f9b0c7121a",
   "metadata": {},
   "source": [
    "### 19.What is the importance of closing a file in Python"
   ]
  },
  {
   "cell_type": "code",
   "execution_count": 35,
   "id": "2fec7ceb-229d-4733-ae1c-943c761a0dfa",
   "metadata": {},
   "outputs": [],
   "source": [
    "#ANS The importance of closing a file are :-\n",
    "# Ii is used to free up memory resources. \n",
    "# It is used to release the resources associated with it such as file handles etc.\n",
    "# It also avoids data corruption if the files is closed properly.\n",
    "# also when we close the file it ensures all the data are properly written in the file"
   ]
  },
  {
   "cell_type": "markdown",
   "id": "f473fa02-27da-483a-bca0-768c15ed04b3",
   "metadata": {},
   "source": [
    " ### 20.What is the difference between file.read() and file.readline() in Python"
   ]
  },
  {
   "cell_type": "code",
   "execution_count": 36,
   "id": "c32987cc-d191-4379-9555-65e2b7015082",
   "metadata": {},
   "outputs": [],
   "source": [
    "#ANS The difference between file.read() and file.readline() is that:-\n",
    "# file.read() is used to read the entire content or the maximum specified bytes of an file.\n",
    "# file.readline() is used to read a single line of an file"
   ]
  },
  {
   "cell_type": "markdown",
   "id": "7d45c5c6-801b-4425-937b-56be9e69ade3",
   "metadata": {},
   "source": [
    "### 21.  What is the logging module in Python used for"
   ]
  },
  {
   "cell_type": "code",
   "execution_count": 37,
   "id": "5b668b51-4b45-470c-8484-041fcd7c19f0",
   "metadata": {},
   "outputs": [],
   "source": [
    "#ANS The logging module of python is mainly used for tracking events that happens when we execute a code or program\n",
    "# logging is basically used for \n",
    "# 1. Debugging : it used for debugging an program\n",
    "# 2. exceptions handling : logging is used to handle various exceptions\n",
    "# 3. monitoring : logging helps to monitor the program's behavious at various stages\n",
    "# 4. error tracking : logging is also used for tracking various error that occurs when an code gets executed"
   ]
  },
  {
   "cell_type": "markdown",
   "id": "220de25c-b4d0-43ec-be53-b6950bee0b9b",
   "metadata": {},
   "source": [
    "### 22. What is the os module in Python used for in file handling"
   ]
  },
  {
   "cell_type": "code",
   "execution_count": 38,
   "id": "5cfc0e62-8b55-433f-86c4-04a4084d334a",
   "metadata": {},
   "outputs": [],
   "source": [
    "#ANS The os module in python allows us to interact with the operating system and includes various functions\n",
    "# the os module is used to create a directory or file\n",
    "# the os module is also used to find a file in a specific directory"
   ]
  },
  {
   "cell_type": "markdown",
   "id": "c2da13d2-7c38-4924-b00c-5014367317f8",
   "metadata": {},
   "source": [
    " ### 23.What are the challenges associated with memory management in Python"
   ]
  },
  {
   "cell_type": "code",
   "execution_count": 39,
   "id": "4c6e144b-04b8-4379-ae7f-2d335f1743a3",
   "metadata": {},
   "outputs": [],
   "source": [
    "#ANS challenges associated with memory management are :-\n",
    "# 1. Garbage collection : The garbage collector can introduce overhead, especially in programs with a large number of objects.\n",
    "# 2. cyclic references : Cyclic references occur when objects reference each other, creating a cycle that prevents their reference counts from \n",
    "#                        dropping to zero.\n",
    "# 3. Memory Leaks : Memory leaks can occur if objects are unintentionally kept alive by lingering references."
   ]
  },
  {
   "cell_type": "markdown",
   "id": "e985a562-a91b-4ba4-856e-6f143e3ad07d",
   "metadata": {},
   "source": [
    "### 24.How do you raise an exception manually in Python"
   ]
  },
  {
   "cell_type": "code",
   "execution_count": 40,
   "id": "96337d56-dd4f-4991-a06e-ffffcee6f9a2",
   "metadata": {},
   "outputs": [],
   "source": [
    "#ANS : we can raise an exception manually in python using raise statement.\n",
    "# this statement allows you to trigger an exception at any point in the code"
   ]
  },
  {
   "cell_type": "markdown",
   "id": "afff8f7e-8645-4475-ad6a-7d5f726f321f",
   "metadata": {},
   "source": [
    "### 25. Why is it important to use multithreading in certain applications"
   ]
  },
  {
   "cell_type": "code",
   "execution_count": 41,
   "id": "b4f6e074-19b0-4f7e-b6cf-749c38a28d26",
   "metadata": {},
   "outputs": [],
   "source": [
    "#ANS : Multithreading is important in certains applications as :-\n",
    "# 1. imporved performance : Multithreading allows multiple threads to run concurrently making better use of CPU resources\n",
    "# 2. responsiveness : In user interfaces, multithreading can keep the application responsive by offloading time-consuming tasks to background threads.\n",
    "# 3. resource sharing : since all the threads are present in the same processor and uses same memory space they also share same resources as well"
   ]
  },
  {
   "cell_type": "markdown",
   "id": "bf8ae6ab-8ecc-42ad-a196-3ef73b93838e",
   "metadata": {},
   "source": [
    "# Practical questions"
   ]
  },
  {
   "cell_type": "markdown",
   "id": "f3b651c3-75d1-4f1f-90c6-68597c2e3366",
   "metadata": {},
   "source": [
    "### 1. How can you open a file for writing in Python and write a string to it"
   ]
  },
  {
   "cell_type": "code",
   "execution_count": 72,
   "id": "b2450f09-f306-4eb6-b005-785cbffd87d0",
   "metadata": {},
   "outputs": [],
   "source": [
    "with open(\"new_file\", \"w\") as file:\n",
    "    file.write(\"this is my first statement\\n\")\n",
    "    file.write(\"this is my second statement\")"
   ]
  },
  {
   "cell_type": "markdown",
   "id": "adec8b2d-80e3-4586-ae7d-3cc0a0877c6b",
   "metadata": {},
   "source": [
    "### 2.Write a Python program to read the contents of a file and print each line"
   ]
  },
  {
   "cell_type": "code",
   "execution_count": 73,
   "id": "1ada3047-1764-4b3e-8681-f2f9943ae386",
   "metadata": {},
   "outputs": [
    {
     "name": "stdout",
     "output_type": "stream",
     "text": [
      "this is my first statement\n",
      "this is my second statement\n",
      "\n"
     ]
    }
   ],
   "source": [
    "with open(\"new_file\", \"r\") as file:\n",
    "    data = file.read()\n",
    "    print(data)\n",
    "print()"
   ]
  },
  {
   "cell_type": "markdown",
   "id": "b78f9fc9-e450-4f06-8922-211b2988bbb0",
   "metadata": {},
   "source": [
    "### 3.How would you handle a case where the file doesn't exist while trying to open it for reading"
   ]
  },
  {
   "cell_type": "code",
   "execution_count": 77,
   "id": "39ea4ca9-6fcf-494f-b1bc-7fdf66a397da",
   "metadata": {},
   "outputs": [
    {
     "name": "stdout",
     "output_type": "stream",
     "text": [
      "the exception that occured is [Errno 2] No such file or directory: 'file_name'\n"
     ]
    }
   ],
   "source": [
    "try:\n",
    "    f = open(\"file_name\", \"r\")\n",
    "except FileNotFoundError as e:\n",
    "    print(f\"the exception that occured is {e}\")"
   ]
  },
  {
   "cell_type": "markdown",
   "id": "f1e39deb-a01c-468c-a447-08d1f58a503d",
   "metadata": {},
   "source": [
    "### 4. Write a Python script that reads from one file and writes its content to another file"
   ]
  },
  {
   "cell_type": "code",
   "execution_count": 82,
   "id": "d38f6ea7-0c14-4310-80ab-838d6b99e670",
   "metadata": {},
   "outputs": [],
   "source": [
    "with open(\"new_file\",\"r\") as file:\n",
    "    content = file.read()\n",
    "with open(\"destination_file.txt\",\"w\") as destination_file:\n",
    "   destination_file.write(content)"
   ]
  },
  {
   "cell_type": "markdown",
   "id": "f0fb2285-c4e5-41b6-af6c-5302e624e04f",
   "metadata": {},
   "source": [
    "### 5. How would you catch and handle division by zero error in Python"
   ]
  },
  {
   "cell_type": "code",
   "execution_count": 86,
   "id": "fc7f993b-3883-47b3-8030-62827d4ff4dc",
   "metadata": {},
   "outputs": [
    {
     "name": "stdout",
     "output_type": "stream",
     "text": [
      "Exeption : Division by zero is not allowed.\n",
      "Execution complete.\n"
     ]
    }
   ],
   "source": [
    "try:\n",
    "    result = 10 / 0\n",
    "except ZeroDivisionError:\n",
    "    print(\"Exeption : Division by zero is not allowed.\")\n",
    "else:\n",
    "    print(\"Division successful, The result is:\", result)\n",
    "finally:\n",
    "    print(\"Execution complete.\")\n"
   ]
  },
  {
   "cell_type": "markdown",
   "id": "5388ddd5-bc1b-46e1-a09b-28f4c019ff8b",
   "metadata": {},
   "source": [
    "### 6. Write a Python program that logs an error message to a log file when a division by zero exception occurs"
   ]
  },
  {
   "cell_type": "code",
   "execution_count": 92,
   "id": "bb17cbf2-406d-4475-ae93-a0ef403c237d",
   "metadata": {},
   "outputs": [
    {
     "name": "stdout",
     "output_type": "stream",
     "text": [
      "An error occurred. Check the log file for details.\n"
     ]
    }
   ],
   "source": [
    "import logging\n",
    "logging.basicConfig(filename='error.log', level=logging.ERROR, format='%(asctime)s - %(levelname)s - %(message)s')\n",
    "\n",
    "def divide(a, b):\n",
    "    try:\n",
    "        result = a / b\n",
    "        return result\n",
    "    except ZeroDivisionError:\n",
    "        logging.error(\"Division by zero error occurred\")\n",
    "        return None\n",
    "\n",
    "result = divide(10, 0)\n",
    "if result is None:\n",
    "    print(\"An error occurred. Check the log file for details.\")\n",
    "else:\n",
    "    print(f\"The result is: {result}\")\n"
   ]
  },
  {
   "cell_type": "markdown",
   "id": "c05c8ab8-5fa7-41b0-baa0-a1b138635a6b",
   "metadata": {},
   "source": [
    "### 7. How do you log information at different levels (INFO, ERROR, WARNING) in Python using the logging module"
   ]
  },
  {
   "cell_type": "code",
   "execution_count": 93,
   "id": "86262160-6a55-47d7-9bfa-3f95d985338f",
   "metadata": {},
   "outputs": [],
   "source": [
    "import logging\n",
    "\n",
    "logging.basicConfig(level=logging.DEBUG, format='%(asctime)s - %(levelname)s - %(message)s')\n",
    "\n",
    "logging.debug(\"This is a debug message\")\n",
    "logging.info(\"This is an info message\")\n",
    "logging.warning(\"This is a warning message\")\n",
    "logging.error(\"This is an error message\")\n",
    "logging.critical(\"This is a critical message\")\n"
   ]
  },
  {
   "cell_type": "markdown",
   "id": "e8c52032-8e99-4a96-91c0-1cb32e482c21",
   "metadata": {},
   "source": [
    "### 8.Write a program to handle a file opening error using exception handling"
   ]
  },
  {
   "cell_type": "code",
   "execution_count": 96,
   "id": "b5106305-d228-4513-8d7a-a54bb748f671",
   "metadata": {},
   "outputs": [
    {
     "name": "stdout",
     "output_type": "stream",
     "text": [
      "exception : [Errno 2] No such file or directory: 'new_file2'\n",
      "code was executed\n"
     ]
    }
   ],
   "source": [
    "try:\n",
    "    file = open(\"new_file2\",\"r\")\n",
    "except FileNotFoundError as e:\n",
    "    print(\"exception :\",e)\n",
    "finally:\n",
    "    print(\"code was executed\")"
   ]
  },
  {
   "cell_type": "markdown",
   "id": "26f0fbc3-b6fe-43e5-b55c-812cd28179b3",
   "metadata": {},
   "source": [
    " ### 9.How can you read a file line by line and store its content in a list in Python"
   ]
  },
  {
   "cell_type": "code",
   "execution_count": 99,
   "id": "5b98a7a9-4e53-40a3-a2cc-28541b5003e5",
   "metadata": {},
   "outputs": [
    {
     "name": "stdout",
     "output_type": "stream",
     "text": [
      "['this is my first statement\\nthis is my second statement']\n"
     ]
    }
   ],
   "source": [
    "list1=[]\n",
    "with open(\"new_file\",\"r\") as f:\n",
    "    list1 = [f.read()]\n",
    "    print(list1)"
   ]
  },
  {
   "cell_type": "markdown",
   "id": "f107b128-8d9f-4b28-8210-f74591e861cb",
   "metadata": {},
   "source": [
    "### 10. How can you append data to an existing file in Python"
   ]
  },
  {
   "cell_type": "code",
   "execution_count": 103,
   "id": "b1ef13b1-862d-48d2-b25f-e6f8e59d9ad1",
   "metadata": {},
   "outputs": [],
   "source": [
    "with open(\"new_file\",\"a\") as f:\n",
    "    f.write(\"this is my third line\")"
   ]
  },
  {
   "cell_type": "markdown",
   "id": "b686f4e5-bad1-4cea-841d-acf9c5c02c42",
   "metadata": {},
   "source": [
    "### 11.Write a Python program that uses a try-except block to handle an error when attempting to access a dictionary key that doesn't exist"
   ]
  },
  {
   "cell_type": "code",
   "execution_count": 107,
   "id": "e3e01e75-9ead-415e-825d-583aadb47357",
   "metadata": {},
   "outputs": [
    {
     "name": "stdout",
     "output_type": "stream",
     "text": [
      "your error is : 'contact'\n"
     ]
    }
   ],
   "source": [
    "my_dict = {'name': 'Alice', 'age':22}\n",
    "try:\n",
    "    my_dict['contact']\n",
    "except KeyError as e:\n",
    "    print(\"your error is :\", e)"
   ]
  },
  {
   "cell_type": "markdown",
   "id": "586cbce3-9edb-470a-98df-d40df76b44a7",
   "metadata": {},
   "source": [
    "### 12.Write a program that demonstrates using multiple except blocks to handle different types of exceptions"
   ]
  },
  {
   "cell_type": "code",
   "execution_count": 112,
   "id": "d3c1855f-5fad-4d26-82d0-9e81132c9ad0",
   "metadata": {},
   "outputs": [
    {
     "name": "stdout",
     "output_type": "stream",
     "text": [
      "your error is : unsupported operand type(s) for /: 'int' and 'str'\n",
      "code executed\n"
     ]
    }
   ],
   "source": [
    "try:\n",
    "    result = 10/\"string\"\n",
    "except ZeroDivisionError as e:\n",
    "    print(\"your error is:\",e)\n",
    "except TypeError as e:\n",
    "    print(\"your error is :\", e)\n",
    "finally:\n",
    "    print(\"code executed\")"
   ]
  },
  {
   "cell_type": "markdown",
   "id": "f62f62e8-de86-4434-9f6f-b731fbfea5f6",
   "metadata": {},
   "source": [
    "### 13.How would you check if a file exists before attempting to read it in Python"
   ]
  },
  {
   "cell_type": "code",
   "execution_count": 113,
   "id": "e31ef6d5-9e2e-4c73-b79b-c9189dc550b6",
   "metadata": {},
   "outputs": [
    {
     "name": "stdout",
     "output_type": "stream",
     "text": [
      "Error: The file 'example.txt' does not exist.\n"
     ]
    }
   ],
   "source": [
    "import os\n",
    "file_path = 'example.txt'\n",
    "\n",
    "if os.path.exists(file_path):\n",
    "    with open(file_path, 'r') as file:\n",
    "        content = file.read()\n",
    "        print(content)\n",
    "else:\n",
    "    print(f\"Error: The file '{file_path}' does not exist.\")\n"
   ]
  },
  {
   "cell_type": "markdown",
   "id": "92c7aae7-5de3-4ad7-b05c-74bfdb4fec1b",
   "metadata": {},
   "source": [
    "### 14. Write a program that uses the logging module to log both informational and error messages"
   ]
  },
  {
   "cell_type": "code",
   "execution_count": 117,
   "id": "997adf41-b34e-458f-8d95-4bb9fcdec9f3",
   "metadata": {},
   "outputs": [
    {
     "name": "stdout",
     "output_type": "stream",
     "text": [
      "The result is: 5.0\n",
      "An error occurred. Check the log file for details.\n"
     ]
    }
   ],
   "source": [
    "import logging\n",
    "logging.basicConfig(filename='app.log', level=logging.DEBUG, format='%(asctime)s - %(levelname)s - %(message)s')\n",
    "\n",
    "def divide(a, b):\n",
    "    try:\n",
    "        result = a / b\n",
    "        logging.info(f\"Division successful: {a} / {b} = {result}\")\n",
    "        return result\n",
    "    except ZeroDivisionError:\n",
    "        logging.error(\"Division by zero error occurred\")\n",
    "        return None\n",
    "\n",
    "logging.info(\"Program started\")\n",
    "result = divide(10, 2)\n",
    "if result is not None:\n",
    "    print(f\"The result is: {result}\")\n",
    "else:\n",
    "    print(\"An error occurred. Check the log file for details.\")\n",
    "\n",
    "result = divide(10, 0)\n",
    "if result is not None:\n",
    "    print(f\"The result is: {result}\")\n",
    "else:\n",
    "    print(\"An error occurred. Check the log file for details.\")\n",
    "\n",
    "logging.info(\"Program ended\")\n"
   ]
  },
  {
   "cell_type": "markdown",
   "id": "34d6a6b1-131b-4fd1-8ca7-95ee69d07c1d",
   "metadata": {},
   "source": [
    "### 15.Write a Python program that prints the content of a file and handles the case when the file is empty"
   ]
  },
  {
   "cell_type": "code",
   "execution_count": 122,
   "id": "592e3630-c10b-4028-8a8b-b7043d8615a3",
   "metadata": {},
   "outputs": [
    {
     "name": "stdout",
     "output_type": "stream",
     "text": [
      "Error: The file 'example.txt' was not found.\n"
     ]
    }
   ],
   "source": [
    "try:\n",
    "    with open(\"example.txt\", 'r') as file:\n",
    "        content = file.read()\n",
    "        if content:\n",
    "            print(content)\n",
    "        else:\n",
    "            print(\"The file is empty.\")\n",
    "except FileNotFoundError:\n",
    "        print(f\"Error: The file '{file_path}' was not found.\")"
   ]
  },
  {
   "cell_type": "markdown",
   "id": "073b03a8-c5ca-4b07-909c-fa96d71802fc",
   "metadata": {},
   "source": [
    "### 16. Demonstrate how to use memory profiling to check the memory usage of a small program"
   ]
  },
  {
   "cell_type": "code",
   "execution_count": 143,
   "id": "6a433f74-51bd-4bd4-9de1-0bb776b74821",
   "metadata": {},
   "outputs": [
    {
     "ename": "ModuleNotFoundError",
     "evalue": "No module named 'memory_profiler'",
     "output_type": "error",
     "traceback": [
      "\u001b[1;31m---------------------------------------------------------------------------\u001b[0m",
      "\u001b[1;31mModuleNotFoundError\u001b[0m                       Traceback (most recent call last)",
      "Cell \u001b[1;32mIn[143], line 2\u001b[0m\n\u001b[0;32m      1\u001b[0m \u001b[38;5;66;03m# we can use memory profiler module in python to check the memory usage of a small program.\u001b[39;00m\n\u001b[1;32m----> 2\u001b[0m \u001b[38;5;28;01mfrom\u001b[39;00m \u001b[38;5;21;01mmemory_profiler\u001b[39;00m \u001b[38;5;28;01mimport\u001b[39;00m profile\n\u001b[0;32m      4\u001b[0m \u001b[38;5;129m@profile\u001b[39m\n\u001b[0;32m      5\u001b[0m \u001b[38;5;28;01mdef\u001b[39;00m \u001b[38;5;21mmy_function\u001b[39m():\n\u001b[0;32m      6\u001b[0m     a \u001b[38;5;241m=\u001b[39m [i \u001b[38;5;28;01mfor\u001b[39;00m i \u001b[38;5;129;01min\u001b[39;00m \u001b[38;5;28mrange\u001b[39m(\u001b[38;5;241m10000\u001b[39m)]\n",
      "\u001b[1;31mModuleNotFoundError\u001b[0m: No module named 'memory_profiler'"
     ]
    }
   ],
   "source": [
    "# we can use memory profiler module in python to check the memory usage of a small program.\n",
    "# first we have to install the memory \n",
    "from memory_profiler import profile\n",
    "\n",
    "@profile\n",
    "def my_function():\n",
    "    a = [i for i in range(10000)]\n",
    "    b = [i * 2 for i in range(10000)]\n",
    "    return a, b\n",
    "\n",
    "if __name__ == '__main__':\n",
    "    my_function()\n",
    "# we then have to save the script to a file and run it using a the following command\n",
    "# python -m memory_profiler memory_profile_example.py\n"
   ]
  },
  {
   "cell_type": "markdown",
   "id": "cf90b23e-9024-4361-97c3-e6bb3f84e430",
   "metadata": {},
   "source": [
    "### 17. Write a Python program to create and write a list of numbers to a file, one number per line"
   ]
  },
  {
   "cell_type": "code",
   "execution_count": 123,
   "id": "62634230-418b-4dcf-ae9f-d91867a737dd",
   "metadata": {},
   "outputs": [
    {
     "name": "stdout",
     "output_type": "stream",
     "text": [
      "Numbers written to file successfully!\n"
     ]
    }
   ],
   "source": [
    "numbers = [1, 2, 3, 4, 5, 6, 7, 8, 9, 10]\n",
    "\n",
    "with open('numbers.txt', 'w') as file:\n",
    "    for number in numbers:\n",
    "        file.write(f\"{number}\\n\")\n",
    "\n",
    "print(\"Numbers written to file successfully!\")\n"
   ]
  },
  {
   "cell_type": "markdown",
   "id": "611cd3a0-4b01-4d5a-b367-453a0ad2e2fc",
   "metadata": {},
   "source": [
    "### 18.How would you implement a basic logging setup that logs to a file with rotation after 1MB"
   ]
  },
  {
   "cell_type": "code",
   "execution_count": 124,
   "id": "95914a25-2a36-47fa-ac37-d88b495fa593",
   "metadata": {},
   "outputs": [
    {
     "name": "stdout",
     "output_type": "stream",
     "text": [
      "Logging setup complete. Check the 'app.log' file for log messages.\n"
     ]
    }
   ],
   "source": [
    "import logging\n",
    "from logging.handlers import RotatingFileHandler\n",
    "\n",
    "logger = logging.getLogger('my_logger')\n",
    "logger.setLevel(logging.DEBUG)\n",
    "\n",
    "handler = RotatingFileHandler('app.log', maxBytes=1*1024*1024, backupCount=5)\n",
    "handler.setLevel(logging.DEBUG)\n",
    "\n",
    "formatter = logging.Formatter('%(asctime)s - %(levelname)s - %(message)s')\n",
    "handler.setFormatter(formatter)\n",
    "\n",
    "logger.addHandler(handler)\n",
    "\n",
    "logger.debug(\"This is a debug message\")\n",
    "logger.info(\"This is an info message\")\n",
    "logger.warning(\"This is a warning message\")\n",
    "logger.error(\"This is an error message\")\n",
    "logger.critical(\"This is a critical message\")\n",
    "\n",
    "print(\"Logging setup complete. Check the 'app.log' file for log messages.\")\n"
   ]
  },
  {
   "cell_type": "markdown",
   "id": "75d5dbb7-735e-4ed5-8010-667778d42d1f",
   "metadata": {},
   "source": [
    "### 19. Write a program that handles both IndexError and KeyError using a try-except block"
   ]
  },
  {
   "cell_type": "code",
   "execution_count": 133,
   "id": "dd9b10c5-d4dd-4906-9c90-9c653d3398b0",
   "metadata": {},
   "outputs": [
    {
     "name": "stdout",
     "output_type": "stream",
     "text": [
      "3\n",
      "the error is : 'contact'\n",
      "code executed\n"
     ]
    }
   ],
   "source": [
    "mylist = [1,2,3,4]\n",
    "mydict = {\"name\" : \"subham\", \"age\": 20, \"course\":\"ds\"}\n",
    "try:\n",
    "    print(mylist[2])\n",
    "except IndexError as e:\n",
    "    print(\"the error is :\", e)\n",
    "\n",
    "try:\n",
    "    print(mydict[\"contact\"])\n",
    "except KeyError as e:\n",
    "    print(\"the error is :\", e)\n",
    "\n",
    "finally:\n",
    "    print(\"code executed\")"
   ]
  },
  {
   "cell_type": "markdown",
   "id": "a3607ade-e407-45c8-8bf7-4988895e1c6e",
   "metadata": {},
   "source": [
    "### 20.How would you open a file and read its contents using a context manager in Python"
   ]
  },
  {
   "cell_type": "code",
   "execution_count": 134,
   "id": "dda1bab6-0dd9-4fc4-bf48-787d6e653d94",
   "metadata": {},
   "outputs": [
    {
     "name": "stdout",
     "output_type": "stream",
     "text": [
      "this is my first statement\n",
      "this is my second statement\n"
     ]
    }
   ],
   "source": [
    "# we can open a file and read its content using context manager in python using with statement.\n",
    "# It makes sure that the file is properly closed. for example\n",
    "with open(\"new_file\",\"r\") as f:\n",
    "    content_1=f.read()\n",
    "    print(content)"
   ]
  },
  {
   "cell_type": "markdown",
   "id": "ae35c0f0-95ca-49f2-8756-0c4c16fc6c97",
   "metadata": {},
   "source": [
    "### 21. Write a Python program that reads a file and prints the number of occurrences of a specific word"
   ]
  },
  {
   "cell_type": "code",
   "execution_count": 139,
   "id": "fef9902b-f270-4cec-a260-bc3a38aa481c",
   "metadata": {},
   "outputs": [
    {
     "name": "stdout",
     "output_type": "stream",
     "text": [
      "The word 'this' occurs 3 times in the file.\n"
     ]
    }
   ],
   "source": [
    "file_path = 'new_file'\n",
    "word_to_count = 'this'\n",
    "\n",
    "def count_word_occurrences(file_path, word):\n",
    "    try:\n",
    "        with open(file_path, 'r') as file:\n",
    "            content = file.read()\n",
    "            word_count = content.lower().split().count(word.lower())\n",
    "            return word_count\n",
    "    except FileNotFoundError:\n",
    "        print(f\"Error: The file '{file_path}' was not found.\")\n",
    "    except IOError:\n",
    "        print(f\"Error: An I/O error occurred while trying to read the file '{file_path}'.\")\n",
    "\n",
    "count = count_word_occurrences(file_path, word_to_count)\n",
    "if count is not None:\n",
    "    print(f\"The word '{word_to_count}' occurs {count} times in the file.\")\n"
   ]
  },
  {
   "cell_type": "markdown",
   "id": "71f7589c-5a71-49b6-84a4-d1c364936989",
   "metadata": {},
   "source": [
    "### 22. How can you check if a file is empty before attempting to read its contents"
   ]
  },
  {
   "cell_type": "code",
   "execution_count": 141,
   "id": "dfe05c61-fd83-48ca-bf28-dedc906d878d",
   "metadata": {},
   "outputs": [
    {
     "name": "stdout",
     "output_type": "stream",
     "text": [
      "this is my first statement\n",
      "this is my second statementthis is my third linethis is my third linethis is my third line\n",
      "this is my third line\n"
     ]
    }
   ],
   "source": [
    "import os\n",
    "\n",
    "\n",
    "if os.path.getsize(\"new_file\") > 0:\n",
    "    with open(\"new_file\", 'r') as file:\n",
    "        content = file.read()\n",
    "        print(content)\n"
   ]
  },
  {
   "cell_type": "markdown",
   "id": "b86bb54c-7d64-41a2-9440-4785f2421e22",
   "metadata": {},
   "source": [
    "### 23.Write a Python program that writes to a log file when an error occurs during file handling"
   ]
  },
  {
   "cell_type": "code",
   "execution_count": 142,
   "id": "e0fa1b58-d8a9-46d0-8a5e-fa45662eebeb",
   "metadata": {},
   "outputs": [
    {
     "name": "stdout",
     "output_type": "stream",
     "text": [
      "Error: The file 'new_file' was not found.\n"
     ]
    }
   ],
   "source": [
    "import logging\n",
    "logging.basicConfig(filename='file_errors.log', level=logging.ERROR, format='%(asctime)s : %(levelname)s : %(message)s')\n",
    "try:\n",
    "    with open(\"file_path\", 'r') as file:\n",
    "        content = file.read()\n",
    "        print(content)\n",
    "except FileNotFoundError:\n",
    "    logging.error(f\"FileNotFoundError: The file '{file_path}' was not found.\")\n",
    "    print(f\"Error: The file '{file_path}' was not found.\")"
   ]
  },
  {
   "cell_type": "code",
   "execution_count": null,
   "id": "e262c2f1-42a3-4b59-a23e-33913580a509",
   "metadata": {},
   "outputs": [],
   "source": []
  }
 ],
 "metadata": {
  "kernelspec": {
   "display_name": "Python 3 (ipykernel)",
   "language": "python",
   "name": "python3"
  },
  "language_info": {
   "codemirror_mode": {
    "name": "ipython",
    "version": 3
   },
   "file_extension": ".py",
   "mimetype": "text/x-python",
   "name": "python",
   "nbconvert_exporter": "python",
   "pygments_lexer": "ipython3",
   "version": "3.12.7"
  }
 },
 "nbformat": 4,
 "nbformat_minor": 5
}
