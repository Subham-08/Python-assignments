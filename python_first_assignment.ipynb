{
 "cells": [
  {
   "cell_type": "markdown",
   "id": "3e1be900-f1b6-498f-a7a8-304ee50c8463",
   "metadata": {},
   "source": [
    "# Python first assignment:-"
   ]
  },
  {
   "cell_type": "markdown",
   "id": "3fb64c1d-e81f-49ac-b3ce-affb3d5981cd",
   "metadata": {},
   "source": [
    "### 1.Explain the key features of Python that make it a popular choice for programming"
   ]
  },
  {
   "cell_type": "raw",
   "id": "3693c1d4-cded-4f03-b282-c72447002fc7",
   "metadata": {},
   "source": [
    "#ANS: The key features of python that make is a popular choise of programming are :-\n",
    "    # Python is easy to learn as python\"s syntax and easy to understand and is close to the human language \"english\" that makes the code maintenence          easy\n",
    "    # Python is versetile and is easily available os windows,mac etc.\n",
    "    # Python has wide range of applications and is used in web development, data science, machine learning, artificial intelligence etc.\n",
    "    # Python comes with extensive standard liabrary and has third party liabraries and frameworks such as numpy, pandas, tensor flow, etc that helps to       simplify complex tasks\n",
    "    # Python was a large and active community of developers who contribute to its growth and provide support through various forums and tutorials"
   ]
  },
  {
   "cell_type": "markdown",
   "id": "e4f871d2-2727-4734-b3f0-076d5f057fc5",
   "metadata": {},
   "source": [
    "### 2.Describe the role of predefined keywords in Python and provide examples of how they are used in a program"
   ]
  },
  {
   "cell_type": "code",
   "execution_count": 50,
   "id": "d34d48da-9918-461d-9a5f-8a407bd5c016",
   "metadata": {},
   "outputs": [
    {
     "name": "stdin",
     "output_type": "stream",
     "text": [
      "your number = 11\n"
     ]
    },
    {
     "name": "stdout",
     "output_type": "stream",
     "text": [
      "the number is greater then 10\n"
     ]
    }
   ],
   "source": [
    "#ANS: keywords are predefined words that holds a special meaning and have specific pupose. they act as the backbone of the language's syntax and structure\n",
    "  \n",
    "#Below is the code showing examples of how they are used\n",
    "\n",
    "num1 = 10\n",
    "num2 = int(input(\"your number =\")) #input is used when we want some user to give value to the variable\n",
    "while num2 < num1: #(while keyword is used to create while loop)\n",
    "    print(num2) \n",
    "    num2 = num2 + 1\n",
    "if num2>10: #(if keyword is used to make a conditional statement)\n",
    "    print(\"the number is greater then 10\")\n",
    "else: #(else keyword is used to in conditional statement0)\n",
    "    print(\"this was the example\")"
   ]
  },
  {
   "cell_type": "markdown",
   "id": "9fd35e9e-7742-4f89-931f-ee1e8d200865",
   "metadata": {},
   "source": [
    "### 3.Compare and contrast mutable and immutable objects in Python with examples"
   ]
  },
  {
   "cell_type": "code",
   "execution_count": 52,
   "id": "17415b80-57ac-47a1-8133-cd734fd572a1",
   "metadata": {},
   "outputs": [
    {
     "data": {
      "text/plain": [
       "[1, 2, 5, 4.5, 'subham']"
      ]
     },
     "execution_count": 52,
     "metadata": {},
     "output_type": "execute_result"
    }
   ],
   "source": [
    "#ANS: Mutable objects/containers are those objects/containers whose value or state can be changed after they are created. List are mutable object\n",
    "#     immutable objects/containers are those objects/containers whose value or state cannot be changed after they are created. Tuples are mutable object\n",
    "#FOR EXAMPLE:\n",
    "L = [1, 2, 3, 4.5, \"subham\",] #this is a list and is mutable\n",
    "T = (1, 2, 3, 4.5, \"subham\") #this is a tuple and is immutable\n",
    "L[2] = 5\n",
    "L"
   ]
  },
  {
   "cell_type": "markdown",
   "id": "95fa8c31-07b6-494b-8e4c-ffdf40e4da25",
   "metadata": {},
   "source": [
    "### 4.Discuss the different types of operators in Python and provide examples of how they are used"
   ]
  },
  {
   "cell_type": "code",
   "execution_count": 4,
   "id": "71c56f50-0e3f-4865-a0aa-336a8eaacb1b",
   "metadata": {},
   "outputs": [],
   "source": [
    "#ANS: Python operators are special keywords or symbols that are used to perform operations on values or variable. \n",
    "      #It is used when we want to manage, do computations and make decisions using data.\n",
    "# there are various operators in python. These are given below with examples\n",
    "\n",
    "#ARITHMATIC OPERATORS \n",
    "#1. Addition - a + b\n",
    "#2 Substraction - a - b\n",
    "#3 Multiplication - a * b\n",
    "#4 Division - a / b\n",
    "#5 Modulus - a % b\n",
    "#6 Exponentiation - a ** b\n",
    "#7 Floor - a // b\n",
    "\n",
    "#COMPARISON OPERATORS \n",
    "#1 Equal to - a == b\n",
    "#2 Not equal to - a != b\n",
    "#3 Greater then - a > b\n",
    "#4 less then - a < b\n",
    "#5 Greater then equal to - a >= b\n",
    "#6 less then equal to - a <= b\n",
    "\n",
    "#LOGICAL OPERATORS\n",
    "#1 And - a and b\n",
    "#2 Or - a or b\n",
    "#3 Not - a not b\n",
    "\n",
    "#BISTWISE OPERATORS \n",
    "#1 Bitwise And (%)  - a & b\n",
    "#2 Bitwise XOR (^) - a ^ b\n",
    "#3 Left Shift (<<) - a << b\n",
    "#4 Right Shift (>>) - a >> b\n",
    "\n",
    "#ASSIGNMENT OPERATORS \n",
    "#1 Assignment (=) - a = b\n",
    "#2 Addition assignment (+=) - a += 5\n",
    "#3 Substraction assignment (-=) - a -= 5\n",
    "#4 multiplication assignment (*=) - a *= 5\n",
    "#5 division assignment (*=) - a *= 5\n",
    "\n",
    "#MEMBERSHIP OPERATOR\n",
    "#1 In - a in b\n",
    "#2 Not in -  a not in b\n",
    "\n",
    "#IDENTITY OPERATOR \n",
    "#1 is - a is b\n",
    "#2 is not - a is not b\n",
    "\n",
    "#Above are the different types of operators used in python with examples of how they are used"
   ]
  },
  {
   "cell_type": "markdown",
   "id": "eb053a82-b7dd-4e39-81af-087b14d0e7f7",
   "metadata": {},
   "source": [
    "### 5. Explain the concept of type casting in Python with examples"
   ]
  },
  {
   "cell_type": "code",
   "execution_count": 10,
   "id": "886aba84-ef98-4f9a-8e74-b151d48c51c3",
   "metadata": {},
   "outputs": [
    {
     "name": "stdout",
     "output_type": "stream",
     "text": [
      "<class 'str'>\n",
      "<class 'int'>\n",
      "<class 'float'>\n"
     ]
    }
   ],
   "source": [
    "# Type casting or type conversion means to change the data type of an value or object. \n",
    "# When any data type like any string is converted into integers or float etc is know an type casting or data conversion\n",
    "\n",
    "#  There are two types of type casting \n",
    "#1.Implicit - Python understands the type by itself without any explicit instructions from the programmer\n",
    "#2 explicit - Converts data types using inbuilt functions \n",
    "\n",
    "#below are few example of type casting --\n",
    "#EXPLICIT \n",
    "a = \"5\"\n",
    "print(type(a))\n",
    "int(a)\n",
    "print(type(int(a)))\n",
    "\n",
    "#IMPLICIT\n",
    "b = 3 #integer\n",
    "c = 1.4 #float\n",
    "d = b + c\n",
    "print(type(d))"
   ]
  },
  {
   "cell_type": "markdown",
   "id": "d205fa47-4410-4a6c-b217-d60c70fb6100",
   "metadata": {},
   "source": [
    "### 6. How do conditional statements work in Python? Illustrate with examples"
   ]
  },
  {
   "cell_type": "code",
   "execution_count": 38,
   "id": "e48396e8-8cdf-4a64-a3b6-8a3ffe2874ab",
   "metadata": {},
   "outputs": [
    {
     "name": "stdin",
     "output_type": "stream",
     "text": [
      "enter your name -  subham\n",
      "enter your email-id subham@\n",
      "enter your password aezakmii\n"
     ]
    },
    {
     "name": "stdout",
     "output_type": "stream",
     "text": [
      "login successful\n"
     ]
    }
   ],
   "source": [
    "##### Conditional statements are the statements that helps you to code decisions based on some pre-conditions\n",
    "#Conditional statements are fumdamentals programming constructs that allows programs to execute different blocks of code based on whether a specific conditions is true or false \n",
    "\n",
    "#The type of conditional statements are :-\n",
    "#1. if :- the most basic form of conditionals statement. it checks a single condition\n",
    "#2. if-else :- Extends the if statement by providing an alternate blocks of code to execute if condition is false\n",
    "#3. elif :- this statement allows for multiple conditions to be chehcked sequentially\n",
    "#4 nested if-else :- when an statement can be nested with another if-else block.\n",
    "#These are explained below with the help of an code which says the performance of an student\n",
    "\n",
    "name = input(\"enter your name - \")\n",
    "email = input(\"enter your email-id\")\n",
    "password = input(\"enter your password\")\n",
    "\n",
    "if name == \"\":   #if statement\n",
    "    print(\"enter a valid name\")\n",
    "else:           #else statement\n",
    "    if len(name)<=2:\n",
    "        print(\"enter your complete name\")\n",
    "    else:\n",
    "        if \"@\" not in email:\n",
    "            print(\"enter a valid email-id \")\n",
    "        else:\n",
    "            if len(password) < 8:\n",
    "                print(\"password should be of atleast 8 characters\")\n",
    "            else:\n",
    "                print(\"login successful\")\n",
    "\n",
    "#above was an code showing all the conditional statements"
   ]
  },
  {
   "cell_type": "markdown",
   "id": "3a8afa8a-e9ac-431b-b348-318f5325f85e",
   "metadata": {},
   "source": [
    "### 7.Describe the different types of loops in Python and their use cases with examples."
   ]
  },
  {
   "cell_type": "code",
   "execution_count": 49,
   "id": "f7ecc3f6-2ce7-442e-b733-ead95f47462a",
   "metadata": {},
   "outputs": [
    {
     "name": "stdout",
     "output_type": "stream",
     "text": [
      "2\n",
      "3\n",
      "4\n",
      "5\n",
      "6\n",
      "7\n"
     ]
    }
   ],
   "source": [
    "#Types is loops in python are \n",
    "\n",
    "#1 While Loops :- used to execute a block of code repeatedly as long as a given condition is true \n",
    "# use cases :- repeating actions untill a specific condition is met \n",
    "#example :-- using break control statement \n",
    "\n",
    "a = 10\n",
    "b = 2\n",
    "while b < a:\n",
    "    print(b)\n",
    "    b = b + 1\n",
    "    if b == 8:\n",
    "        break"
   ]
  },
  {
   "cell_type": "code",
   "execution_count": 51,
   "id": "be964c21-fde2-4e3a-9c81-d75dcacdb193",
   "metadata": {},
   "outputs": [
    {
     "name": "stdout",
     "output_type": "stream",
     "text": [
      "1\n",
      "2\n",
      "3\n",
      "4.5\n",
      "5.5\n",
      "subham\n",
      "pwskills\n"
     ]
    }
   ],
   "source": [
    "#2 for loops :- for loops is used to iterate over a sequence of values \n",
    "# use cases :- iterate over strings, tuples, list etc\n",
    "# example :- \n",
    "\n",
    "l = [1, 2, 3, 4.5, 5.5, \"subham\", \"pwskills\"]\n",
    "for i in l:\n",
    "    print(i)"
   ]
  }
 ],
 "metadata": {
  "kernelspec": {
   "display_name": "Python 3 (ipykernel)",
   "language": "python",
   "name": "python3"
  },
  "language_info": {
   "codemirror_mode": {
    "name": "ipython",
    "version": 3
   },
   "file_extension": ".py",
   "mimetype": "text/x-python",
   "name": "python",
   "nbconvert_exporter": "python",
   "pygments_lexer": "ipython3",
   "version": "3.12.7"
  }
 },
 "nbformat": 4,
 "nbformat_minor": 5
}
