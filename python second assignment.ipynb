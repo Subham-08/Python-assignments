{
 "cells": [
  {
   "cell_type": "markdown",
   "id": "16793cbe-3f95-4e27-b287-993e5f701a62",
   "metadata": {},
   "source": [
    "### 1.Discuss string slicing and provide examples"
   ]
  },
  {
   "cell_type": "code",
   "execution_count": 3,
   "id": "36c21fe8-cca5-4632-bbd0-cc96856d9ba6",
   "metadata": {},
   "outputs": [
    {
     "data": {
      "text/plain": [
       "'Sub'"
      ]
     },
     "execution_count": 3,
     "metadata": {},
     "output_type": "execute_result"
    }
   ],
   "source": [
    "#String slicing is a powerfull technique in python that allows us to extract specific portions of string. Its like extracting a part of the string\n",
    "#For example\n",
    "\n",
    "Name = \"Subham\"\n",
    "Name[0:3]"
   ]
  },
  {
   "cell_type": "markdown",
   "id": "a421c732-e27f-4159-8033-7ba508dbff7a",
   "metadata": {},
   "source": [
    "### 2. Explain the key features of lists in Python"
   ]
  },
  {
   "cell_type": "code",
   "execution_count": 1,
   "id": "2eb60fb2-faac-4787-8265-e1d5ab210439",
   "metadata": {},
   "outputs": [],
   "source": [
    "#ANS: The key features of lists are:-\n",
    "#1. Lists are mutuable i.e. it can be modified as and when required\n",
    "#2. Lists are ordered collection of elements and each elements can be accessed using indexes\n",
    "#3. Lists can store heteregenous data and can store almost anything like string, integer, float, boolean value, etc.\n",
    "#4. Lists can be sliced using list slicing i.e. we can extract subsets of list. for eg list1[0:6]\n",
    "#5. List has huge collection of build in functions which helps to manipulate and edit the lists as wanted"
   ]
  },
  {
   "cell_type": "markdown",
   "id": "795f7b9b-9514-46c2-a4b1-8f53d48b3ace",
   "metadata": {},
   "source": [
    "### 3. Describe how to access, modify, and delete elements in a list with examples"
   ]
  },
  {
   "cell_type": "code",
   "execution_count": 14,
   "id": "0547b303-905e-412b-bb2c-a914724e5b95",
   "metadata": {},
   "outputs": [
    {
     "data": {
      "text/plain": [
       "'data science'"
      ]
     },
     "execution_count": 14,
     "metadata": {},
     "output_type": "execute_result"
    }
   ],
   "source": [
    "#ANS: we can access elements in a list using indexing. \n",
    "#As Lists are ordered collection of elements so each elements can be accessed using the method of Indexing. For example:-\n",
    "\n",
    "lisst1 = [1, 2, 2.5, 5, \"data science\", \"gen ai\"]\n",
    "lisst1[4]"
   ]
  },
  {
   "cell_type": "code",
   "execution_count": 15,
   "id": "b547a250-6c21-46f2-9e0d-b5d226e2da40",
   "metadata": {},
   "outputs": [
    {
     "data": {
      "text/plain": [
       "[1, 2, 2.5, 5, 'pwskills', 'gen ai']"
      ]
     },
     "execution_count": 15,
     "metadata": {},
     "output_type": "execute_result"
    }
   ],
   "source": [
    "#since lists are mutable we can easily modify the elemets by accessing the elements we want to modify. For example:-\n",
    "lisst1[4]= \"pwskills\"\n",
    "lisst1"
   ]
  },
  {
   "cell_type": "code",
   "execution_count": 16,
   "id": "582c4533-ad1e-40f6-8f67-08865c2ceacf",
   "metadata": {},
   "outputs": [
    {
     "data": {
      "text/plain": [
       "[1, 2, 2.5, 5, 'gen ai']"
      ]
     },
     "execution_count": 16,
     "metadata": {},
     "output_type": "execute_result"
    }
   ],
   "source": [
    "# we can delete the elements in a list as well by accessing them and using a build in function called \"pop\".\n",
    "# \"pop\" function removes and shows the element removed at a specific index. for example:-\n",
    "lisst1.pop(4) # by default \"pop\" function removes the last element.\n",
    "lisst1"
   ]
  },
  {
   "cell_type": "markdown",
   "id": "1da63a31-c691-4f9d-a21d-f76aebb8af2d",
   "metadata": {},
   "source": [
    "### 4.Compare and contrast tuples and lists with examples"
   ]
  },
  {
   "cell_type": "code",
   "execution_count": 23,
   "id": "9190f371-2cdf-4051-b511-356c23364353",
   "metadata": {},
   "outputs": [],
   "source": [
    "#ANS List and tuples are the data structure in python that are used to store data. While both are used to store data they are different from each other\n",
    "# their difference is given below\n",
    "\n",
    "# syntax :-\n",
    "#list are accessed and denoted as square brackets [].\n",
    "#Tuples are accessed and denoted as normal brackets().  For example:-\n",
    "liist1 = [1,2,3,\"pwskills\"] #this is a list \n",
    "tuplle1 = (1,2,3,\"pwskills\") #this is tuple"
   ]
  },
  {
   "cell_type": "code",
   "execution_count": 27,
   "id": "52480d9b-7737-4fd2-9133-134b5e8f1313",
   "metadata": {},
   "outputs": [],
   "source": [
    "# mutability :- \n",
    "#list are mutable and can be modified with ease by accessing each element using indexing\n",
    "#tuples can be accessed using indexing but cannot be modified as they are immutable data structure. For Example:-\n",
    "liist1[3] = \"data science\" #this will replace pwskills with data science\n",
    "tuplle1(3)== \"data science\" #this will throw and error"
   ]
  },
  {
   "cell_type": "code",
   "execution_count": 28,
   "id": "792726cc-66fd-4345-b9ad-a11b48bcbed2",
   "metadata": {},
   "outputs": [],
   "source": [
    "# use cases\n",
    "# list are used to store dynamic data or value that may need to be changed in future. this is done as list are mutable and can be modified\n",
    "# tuples on the other hand is used to store and represent fixed data that may not need to be changed. this is done as tuple are immutable"
   ]
  },
  {
   "cell_type": "code",
   "execution_count": 29,
   "id": "bbadc356-8e57-4ceb-a464-e9f41f43e0e1",
   "metadata": {},
   "outputs": [],
   "source": [
    "# Hashability\n",
    "# Since list are mutable in nature therefore they are not hashable\n",
    "# as for tuple they are immutable in nature therefore making is hashable "
   ]
  },
  {
   "cell_type": "markdown",
   "id": "6d5291f2-ca2a-4902-92c1-4b554e441a4f",
   "metadata": {},
   "source": [
    "### 5. Describe the key features of sets and provide examples of their use"
   ]
  },
  {
   "cell_type": "code",
   "execution_count": 31,
   "id": "fb3f8d34-11f0-4cff-b811-f10be13d0f79",
   "metadata": {},
   "outputs": [],
   "source": [
    "#ANS \n",
    "#1. Sets are unordered i.e. they are not ordered therefore indexing does not work here\n",
    "#2. Sets are collection of unique elements. Dublicate elements are automatically removed from  the set\n",
    "#3. Sets are mutable i.e. we can add or remove elements from he sets using some build in functions.\n",
    "#4. The elements in the sets are immutable and cannot be changed."
   ]
  },
  {
   "cell_type": "code",
   "execution_count": 32,
   "id": "b711f5e7-4cdd-4168-9cdf-bf0a79197f88",
   "metadata": {},
   "outputs": [
    {
     "data": {
      "text/plain": [
       "{1, 2, 3, 4, 5, 6, 8, 9}"
      ]
     },
     "execution_count": 32,
     "metadata": {},
     "output_type": "execute_result"
    }
   ],
   "source": [
    "#some of the operations and use case of sets are :-\n",
    "#1. union : it is used to combine elements from two sets. for example:-\n",
    "set1 = {1,2,3,3,4,5,6}\n",
    "set2 = {6,6,5,2,8,9,4}\n",
    "set1|set2"
   ]
  },
  {
   "cell_type": "code",
   "execution_count": 33,
   "id": "8390dac9-d823-4d55-9bac-f887ba364db2",
   "metadata": {},
   "outputs": [
    {
     "data": {
      "text/plain": [
       "{2, 4, 5, 6}"
      ]
     },
     "execution_count": 33,
     "metadata": {},
     "output_type": "execute_result"
    }
   ],
   "source": [
    "#2. Intersection : it is used to find the common elements in two sets. For Example:-\n",
    "set1&set2"
   ]
  },
  {
   "cell_type": "code",
   "execution_count": 34,
   "id": "287929fe-603a-4ba2-a712-da50ca439947",
   "metadata": {},
   "outputs": [
    {
     "data": {
      "text/plain": [
       "{1, 3}"
      ]
     },
     "execution_count": 34,
     "metadata": {},
     "output_type": "execute_result"
    }
   ],
   "source": [
    "#. Difference : It is used to get the element that is present in on set and is not in another. it is used to get the uncommon elements\n",
    "set1-set2"
   ]
  },
  {
   "cell_type": "code",
   "execution_count": 36,
   "id": "0c31072f-412e-4b65-856a-43a54df39935",
   "metadata": {},
   "outputs": [
    {
     "data": {
      "text/plain": [
       "{1, 3, 8, 9}"
      ]
     },
     "execution_count": 36,
     "metadata": {},
     "output_type": "execute_result"
    }
   ],
   "source": [
    "#4 Symetric Difference : It is used to get all the elements except common elements. For Example\n",
    "set1^set2"
   ]
  },
  {
   "cell_type": "markdown",
   "id": "99acac03-6e43-48bb-b73b-b37b37634ab2",
   "metadata": {},
   "source": [
    "### 6. Discuss the use cases of tuples and sets in Python programming"
   ]
  },
  {
   "cell_type": "code",
   "execution_count": 37,
   "id": "dc1cbd5b-0832-460c-9a42-c14376cc4cf2",
   "metadata": {},
   "outputs": [],
   "source": [
    "#ANS The use cases of tuple and sets are discussed below:-\n",
    "\n",
    "#Tuples\n",
    "#1. Tuples can be used to store any data as it can store heteregenous data. Therefore we can store any data type in it\n",
    "# For like we can store string, float value, integer, boolean value, complex numbers etc.\n",
    "\n",
    "#2. Tuples can be used to store fixed data that we dont want to change. As tuple are immutable therefore is helps us to \n",
    "#store data that we dont want to change"
   ]
  },
  {
   "cell_type": "code",
   "execution_count": 38,
   "id": "5af455af-676c-44b2-9a82-df3eeac39e57",
   "metadata": {},
   "outputs": [],
   "source": [
    "#Sets\n",
    "\n",
    "#1. Sets are used to remove duplicate elements or values and get the unique elements\n",
    "#2. used to check if a specific element is present using membership operator\n",
    "#3. Used to for various set operations like UNION, INTERSECTION, DIFFERENCE, SYMETRIC DIFFERENCE"
   ]
  },
  {
   "cell_type": "markdown",
   "id": "9d1b066c-f447-469a-ab91-dba08a8f6893",
   "metadata": {},
   "source": [
    "### 7. Describe how to add, modify, and delete items in a dictionary with examples"
   ]
  },
  {
   "cell_type": "code",
   "execution_count": 45,
   "id": "943c623d-1044-4c3a-b981-c8c66d3a98c7",
   "metadata": {},
   "outputs": [
    {
     "data": {
      "text/plain": [
       "{'name': 'subham',\n",
       " 'age': 22,\n",
       " 'course': 'data science',\n",
       " 'address': 'margherita',\n",
       " 'contact no': 123456}"
      ]
     },
     "execution_count": 45,
     "metadata": {},
     "output_type": "execute_result"
    }
   ],
   "source": [
    "#ANS Items can be added, modified or can be deleted with the various build in functions python provides\n",
    "# these are explained below with examples\n",
    "\n",
    "# Items can be added in dictionary using following methods:-\n",
    "#1. USING ASSIGNMENT OPERATIOR : using assignment operator is simple, we just have to assign the element we want to add to the dictionary.\n",
    "#2. USING UPDATE FUNCTION :- update is a build in function python provides to update a dictionary. For Example:-\n",
    "dictionary = {\"name\" : \"subham\",\"age\" : 22, \"course\" : \"data science\"}\n",
    "dictionary[\"address\"]=\"margherita\" # example of assignment operator\n",
    "dictionary.update({\"contact no\": 123456}) #example of update operator\n",
    "dictionary"
   ]
  },
  {
   "cell_type": "code",
   "execution_count": 46,
   "id": "4b8df137-093d-4a61-8763-9425a6bcea23",
   "metadata": {},
   "outputs": [
    {
     "data": {
      "text/plain": [
       "{'name': 'subham',\n",
       " 'age': 22,\n",
       " 'course': 'data science',\n",
       " 'address': 'guwahati',\n",
       " 'contact no': 123456}"
      ]
     },
     "execution_count": 46,
     "metadata": {},
     "output_type": "execute_result"
    }
   ],
   "source": [
    "# Items can be modified in dictionary by accessing the keys relevant to the element we want to modify. For Example\n",
    "dictionary[\"address\"] = \"guwahati\"\n",
    "dictionary"
   ]
  },
  {
   "cell_type": "code",
   "execution_count": 49,
   "id": "9c6cfc77-a897-4d17-b0ab-8491933ff83d",
   "metadata": {},
   "outputs": [
    {
     "data": {
      "text/plain": [
       "{'name': 'subham', 'course': 'data science', 'contact no': 123456}"
      ]
     },
     "execution_count": 49,
     "metadata": {},
     "output_type": "execute_result"
    }
   ],
   "source": [
    "# There are two methods to delete elements in dictionary in python. These are:-\n",
    "#1. Using Delete function : Delete is a build in function python provides to delete elements by accessing it.\n",
    "#2. Using pop function : pop function is also a function python provides to delete elements. For Example\n",
    "del dictionary[\"age\"] # example of delete function\n",
    "dictionary.pop(\"address\") #example of pop function\n",
    "dictionary"
   ]
  },
  {
   "cell_type": "markdown",
   "id": "e9cec3f8-25e1-44aa-9767-0bf7ca4ea0da",
   "metadata": {},
   "source": [
    "### 8.Discuss the importance of dictionary keys being immutable and provide examples."
   ]
  },
  {
   "cell_type": "code",
   "execution_count": 50,
   "id": "2d0463da-d98b-4d7d-940d-814f22ac91db",
   "metadata": {},
   "outputs": [],
   "source": [
    "#ANS The dictionary keys must be immutable as they need to maintain an hash value throughtout their life \n",
    "# few importance are \n",
    "#1. Dictionary in python uses hash value for storage i.e each key is assigned a hash value which is used to access the element corresponding to it\n",
    "#2. For a key to be reliably retrievable it must remain constant. if these are not constant then it may be difficult to access the keys\n",
    "#3. For better performance the keys should be immutable and remain fixed for efficiency in hashing"
   ]
  },
  {
   "cell_type": "code",
   "execution_count": 51,
   "id": "38fd02ef-9e4f-4743-9b28-dc3db8d7917c",
   "metadata": {},
   "outputs": [],
   "source": [
    "# Examples of immutable types suitable for keys\n",
    "#1. Strings\n",
    "#2. tuples\n",
    "#3. Frozensets"
   ]
  },
  {
   "cell_type": "code",
   "execution_count": null,
   "id": "397ad622-9665-496d-a18b-7003894dadcc",
   "metadata": {},
   "outputs": [],
   "source": [
    "#Example of mutable types not suitable for keys\n",
    "#1. Lists\n",
    "#2. sets\n",
    "#. dictionaries"
   ]
  }
 ],
 "metadata": {
  "kernelspec": {
   "display_name": "Python 3 (ipykernel)",
   "language": "python",
   "name": "python3"
  },
  "language_info": {
   "codemirror_mode": {
    "name": "ipython",
    "version": 3
   },
   "file_extension": ".py",
   "mimetype": "text/x-python",
   "name": "python",
   "nbconvert_exporter": "python",
   "pygments_lexer": "ipython3",
   "version": "3.12.7"
  }
 },
 "nbformat": 4,
 "nbformat_minor": 5
}
