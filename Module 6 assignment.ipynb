{
 "cells": [
  {
   "cell_type": "markdown",
   "id": "df1345dd-5647-45d1-9dca-f98bdb00d4c7",
   "metadata": {},
   "source": [
    "### 1. What are the five key concepts of Object-Oriented Programming (OOP)?"
   ]
  },
  {
   "cell_type": "code",
   "execution_count": 3,
   "id": "662c93e5-6c3b-4f16-b513-a4ee9ea92ce5",
   "metadata": {},
   "outputs": [],
   "source": [
    "# 5 Key features of object oriented programming are\n",
    "#1. object and classes :- class can be defined as a blueprint for creating objects and defining attribiutes \n",
    "#2. encapsulation :- encapsulation means binding attributes and methods within a class it is used to hide specific data\n",
    "#3. Inhritance :- inheritance is the step to create a new class from an existing one\n",
    "#4. polymorphism :- polymorphism is the ability of objects to respond in the same method called in another way\n",
    "#5. abstraction :- it focuses on the essential features of an object while hiding unnecessary details"
   ]
  },
  {
   "cell_type": "markdown",
   "id": "46c8c12a-5929-4394-ab96-094e9de4d4b0",
   "metadata": {},
   "source": [
    "### 2.Write a Python class for a `Car` with attributes for `make`, `model`, and `year`. Include a method to display the car's information"
   ]
  },
  {
   "cell_type": "code",
   "execution_count": 10,
   "id": "c4016bff-3189-49be-8aae-d81b2f5a8ffe",
   "metadata": {},
   "outputs": [
    {
     "name": "stdout",
     "output_type": "stream",
     "text": [
      "your car is : Toyota Fortuner , of year : 2023\n"
     ]
    }
   ],
   "source": [
    "# the python code for the above question is given below\n",
    "\n",
    "class Car:\n",
    "    def __init__(self, make, model, year):\n",
    "        self.make= make\n",
    "        self.model = model\n",
    "        self.year = year\n",
    "    def car_info(self):\n",
    "        print(\"your car is :\", self.make,self.model,\",\",\"of year :\", self.year)\n",
    "\n",
    "Car1=Car(\"Toyota\", \"Fortuner\", 2023)\n",
    "Car1.car_info()"
   ]
  },
  {
   "cell_type": "markdown",
   "id": "a07526be-4120-4a9a-b369-933a8a7e7a99",
   "metadata": {},
   "source": [
    " ### 3. Explain the difference between instance methods and class methods. Provide an example of each."
   ]
  },
  {
   "cell_type": "code",
   "execution_count": 13,
   "id": "f492fa2a-3001-4140-b6f8-3e67230a31b1",
   "metadata": {},
   "outputs": [
    {
     "name": "stdout",
     "output_type": "stream",
     "text": [
      "your name is : subham\n"
     ]
    }
   ],
   "source": [
    "#Ans In instance method the functions works and operates on the instances of the class.\n",
    "#    The first parameter in instance class are defined as self which refers to the instance itself. For eg:\n",
    "\n",
    "class Instance:\n",
    "    def __init__(self, name):\n",
    "        self.name = name\n",
    "    def instance_method(self):\n",
    "        print(\"your name is :\", self.name)\n",
    "\n",
    "name1 = Instance(\"subham\")  \n",
    "name1.instance_method() #here we had to use parenthesis for calling the function"
   ]
  },
  {
   "cell_type": "code",
   "execution_count": 19,
   "id": "41fa7005-ef82-4931-90d2-ca0e26896784",
   "metadata": {},
   "outputs": [],
   "source": [
    "# Class methods are the functions that operates and works on the class iteself other than the instances of the class\n",
    "# here cls is defined as the first parameter. For example:\n",
    "\n",
    "class Students:\n",
    "    def __init__(self, name):\n",
    "        self.name = name\n",
    "    @classmethod\n",
    "    def Student_info(cls,name):\n",
    "        return cls(name)"
   ]
  },
  {
   "cell_type": "code",
   "execution_count": 28,
   "id": "04275d41-3bbd-4ae8-b3d2-5a6c931fadb7",
   "metadata": {},
   "outputs": [
    {
     "data": {
      "text/plain": [
       "'subham'"
      ]
     },
     "execution_count": 28,
     "metadata": {},
     "output_type": "execute_result"
    }
   ],
   "source": [
    "student1 = Students.Student_info(\"subham\")\n",
    "student1.name #here perenthesis was not required for calling the function"
   ]
  },
  {
   "cell_type": "markdown",
   "id": "e6bfa178-2909-432d-ab0a-47cd68e68d64",
   "metadata": {},
   "source": [
    "###  4. How does Python implement method overloading? Give an example."
   ]
  },
  {
   "cell_type": "code",
   "execution_count": 43,
   "id": "4fe7b4df-ab4c-43a6-aa86-15b2fb62d799",
   "metadata": {},
   "outputs": [],
   "source": [
    "# Python does not support method overloading in traditional sense but it can mimic method overloding using certain arguments. For Example\n",
    "\n",
    "class student:\n",
    "    def info(self):\n",
    "        print(\"welcome\")\n",
    "    def info(self, course = \"\"):\n",
    "        print(\"welcome to\", course)\n",
    "    def info(self,course = \"\", name = \"\"):\n",
    "        print(\"welcome to\",course,name)"
   ]
  },
  {
   "cell_type": "code",
   "execution_count": 44,
   "id": "5c27cd82-b70d-49e6-b606-340fa310a0fc",
   "metadata": {},
   "outputs": [],
   "source": [
    "student1 = student()"
   ]
  },
  {
   "cell_type": "code",
   "execution_count": 45,
   "id": "fbcd8617-2f7a-4cdc-ac2a-14a0214676c0",
   "metadata": {},
   "outputs": [
    {
     "name": "stdout",
     "output_type": "stream",
     "text": [
      "welcome to  \n"
     ]
    }
   ],
   "source": [
    "student1.info()"
   ]
  },
  {
   "cell_type": "code",
   "execution_count": 46,
   "id": "b56a83f8-359f-484b-9ed0-6d7863cb181e",
   "metadata": {},
   "outputs": [
    {
     "name": "stdout",
     "output_type": "stream",
     "text": [
      "welcome to data science \n"
     ]
    }
   ],
   "source": [
    "student1.info(\"data science\")"
   ]
  },
  {
   "cell_type": "code",
   "execution_count": 47,
   "id": "a74f911e-a48c-404f-9f97-7c09be93c3cc",
   "metadata": {},
   "outputs": [
    {
     "name": "stdout",
     "output_type": "stream",
     "text": [
      "welcome to data science subham\n"
     ]
    }
   ],
   "source": [
    "student1.info(\"data science\",\"subham\")"
   ]
  },
  {
   "cell_type": "markdown",
   "id": "6bde32e7-f156-478f-8902-0c8ede023722",
   "metadata": {},
   "source": [
    "### 5. What are the three types of access modifiers in Python? How are they denoted?"
   ]
  },
  {
   "cell_type": "code",
   "execution_count": 48,
   "id": "f1d2974b-e959-4259-847a-27a3bd8019f4",
   "metadata": {},
   "outputs": [],
   "source": [
    "# Ans The three types of access modifiers are :\n",
    "#1. Public: it is not denoted by anything and the data present in it is public and can be accessed outside the class\n",
    "# For Example :- self.public\n",
    "#2. Private: The private access modifier is used in cases to make the data private. It is denoted as double underscore \"__\"\n",
    "# For Example :- self.__private\n",
    "#3. Protected : The protected access modifier is used to protect the data and is denoted by single underscore \"_\"\n",
    "# For Example :- self._protected"
   ]
  },
  {
   "cell_type": "markdown",
   "id": "f6fad3db-5227-4747-8479-1256b69cdc40",
   "metadata": {},
   "source": [
    " ### 6. Describe the five types of inheritance in Python. Provide a simple example of multiple inheritance"
   ]
  },
  {
   "cell_type": "code",
   "execution_count": 49,
   "id": "bce6e55c-fbf2-4d0f-ab42-aec895a9b81e",
   "metadata": {},
   "outputs": [],
   "source": [
    "#Ans The five types of inheritance are :-\n",
    "#1. Single inheritance : when the child class has and is derieved from only one parent class or super class it is termed as single inheritance.\n",
    "#2. Multi-level inheritance : when a class is derieved from one parent which in turn is derieved from another perent class it is termed as multi-level inheritance.\n",
    "#3. Multiple inheritance : when a class is derieved from more then two parent class or superclass it is termed as multiple inheritance.\n",
    "#4. Hierarchical inheritance : when multiple classes is derieved from one parent or superclass it is termed as hierarchical inheritance.\n",
    "#5. Hybrid inheritance : it is a combination of two or more types of inheritance."
   ]
  },
  {
   "cell_type": "code",
   "execution_count": 51,
   "id": "10becbc9-faee-4fae-88b9-c122b0be124d",
   "metadata": {},
   "outputs": [],
   "source": [
    "# Example of Multiple Inheritance is as follows:\n",
    "\n",
    "class parent_class1:\n",
    "    pass\n",
    "class parent_class2:\n",
    "    pass\n",
    "class child_class(parent_class1, parent_class2):\n",
    "    pass"
   ]
  },
  {
   "cell_type": "markdown",
   "id": "a9abf79a-6972-4494-98c6-8b3d837f5ddb",
   "metadata": {},
   "source": [
    "### 7. What is the Method Resolution Order (MRO) in Python? How can you retrieve it programmatically?"
   ]
  },
  {
   "cell_type": "code",
   "execution_count": 52,
   "id": "d000df29-57d9-410d-8ca6-860b08f12644",
   "metadata": {},
   "outputs": [],
   "source": [
    "# Method resolution order or MRO is an algorithm in python when is used to solve the diamond problem caused by multiple inheritance.\n",
    "# It simply means the order in which python looks for a method in hierarchy of classes. \n",
    "# It means the class which is inherited first in the derieved class will be executed \n",
    "\n",
    "# We can retrieve mro of a class using mro() method or __mro__ attribute."
   ]
  },
  {
   "cell_type": "markdown",
   "id": "dae817e7-16a5-4dd4-a75b-3704ef7a2be9",
   "metadata": {},
   "source": [
    "### 8. Create an abstract base class `Shape` with an abstract method `area()`. Then create two subclasses \n",
    "`Circle` and `Rectangle` that implement the `area()` method."
   ]
  },
  {
   "cell_type": "code",
   "execution_count": 124,
   "id": "b76d6dc5-97d9-4fcd-b3c2-419e6ad97f22",
   "metadata": {},
   "outputs": [],
   "source": [
    "# The code to the above problem is given below\n",
    "\n",
    "import abc\n",
    "class shape:\n",
    "    @abc.abstractmethod\n",
    "    def area_of_circle(self):\n",
    "        pass\n",
    "    @abc.abstractmethod\n",
    "    def area_of_rectangle(self):\n",
    "        pass\n",
    "\n",
    "class circle(shape):\n",
    "    def __init__(self,radius):\n",
    "        self.radius = radius\n",
    "    def area_of_circle(self):\n",
    "        return 3.14 * self.radius**2\n",
    "\n",
    "class rectangle(shape):\n",
    "    def __init__(self,l,b):\n",
    "        self.l = l\n",
    "        self.b = b\n",
    "    def area_of_rectangle(self):\n",
    "        return self.l * self.b"
   ]
  },
  {
   "cell_type": "code",
   "execution_count": 125,
   "id": "11cb711f-770f-4a66-af1e-43f9ece90b7e",
   "metadata": {},
   "outputs": [
    {
     "data": {
      "text/plain": [
       "20"
      ]
     },
     "execution_count": 125,
     "metadata": {},
     "output_type": "execute_result"
    }
   ],
   "source": [
    "rect1 = rectangle(5,4)\n",
    "rect1.area_of_rectangle()"
   ]
  },
  {
   "cell_type": "code",
   "execution_count": 126,
   "id": "846376c1-3954-4221-ac18-1fb0b441a8f5",
   "metadata": {},
   "outputs": [
    {
     "data": {
      "text/plain": [
       "113.04"
      ]
     },
     "execution_count": 126,
     "metadata": {},
     "output_type": "execute_result"
    }
   ],
   "source": [
    "cir = circle(6)\n",
    "cir.area_of_circle()"
   ]
  },
  {
   "cell_type": "markdown",
   "id": "68d841dc-0fb1-4616-ac94-7b33a2c904b8",
   "metadata": {},
   "source": [
    "###  9. Demonstrate polymorphism by creating a function that can work with different shape objects to calculate and print their areas"
   ]
  },
  {
   "cell_type": "code",
   "execution_count": 127,
   "id": "40830830-4d41-4452-a243-642f1b1cf81a",
   "metadata": {},
   "outputs": [],
   "source": [
    "import abc\n",
    "class shape:\n",
    "    @abc.abstractmethod\n",
    "    def area(self):\n",
    "        pass\n",
    "        \n",
    "class circle(shape):\n",
    "    def __init__(self,radius):\n",
    "        self.radius = radius\n",
    "    def area(self):\n",
    "        return 3.14 * self.radius**2\n",
    "\n",
    "class rectangle(shape):\n",
    "    def __init__(self,l,b):\n",
    "        self.l = l\n",
    "        self.b = b\n",
    "    def area(self):\n",
    "        return self.l * self.b"
   ]
  },
  {
   "cell_type": "code",
   "execution_count": 128,
   "id": "18829003-f96b-4724-a8aa-5a6db93c689e",
   "metadata": {},
   "outputs": [
    {
     "data": {
      "text/plain": [
       "78.5"
      ]
     },
     "execution_count": 128,
     "metadata": {},
     "output_type": "execute_result"
    }
   ],
   "source": [
    "cir = circle(5)\n",
    "cir.area()"
   ]
  },
  {
   "cell_type": "code",
   "execution_count": 129,
   "id": "fa429db2-ade5-4dcd-a2c1-ad081e84ed85",
   "metadata": {},
   "outputs": [
    {
     "data": {
      "text/plain": [
       "24"
      ]
     },
     "execution_count": 129,
     "metadata": {},
     "output_type": "execute_result"
    }
   ],
   "source": [
    "rect2 = rectangle(4,6)\n",
    "rect2.area()"
   ]
  },
  {
   "cell_type": "markdown",
   "id": "0c162f70-5853-4f86-9110-88bf8da4bfdd",
   "metadata": {},
   "source": [
    "###  10. Implement encapsulation in a `BankAccount` class with private attributes for `balance` and `account_number`. Include methods for deposit, withdrawal, and balance inquiry."
   ]
  },
  {
   "cell_type": "code",
   "execution_count": 130,
   "id": "bda97f1e-e8be-4154-aac2-d14925700135",
   "metadata": {},
   "outputs": [],
   "source": [
    "class BankAccount:\n",
    "    def __init__(self,balance):\n",
    "        self.balance = balance\n",
    "    def deposit(self,amount):\n",
    "        self.balance = self.balance + amount\n",
    "        print(\"amount successfully deposited\",\":\", \"balance =\",self.balance)\n",
    "    def withdraw(self,amount):\n",
    "        if self.balance>= amount:\n",
    "            self.balance = self.balance - amount\n",
    "            print(\"withdraw successfull\",\":\", \"balance =\", self.balance)\n",
    "        else:\n",
    "            print(\"insufficient balance\",\":\", \"balance =\", self.balance)"
   ]
  },
  {
   "cell_type": "code",
   "execution_count": 131,
   "id": "e1a502e4-22e8-44a2-a42a-5ff3a3f0ffbc",
   "metadata": {},
   "outputs": [
    {
     "name": "stdout",
     "output_type": "stream",
     "text": [
      "amount successfully deposited : balance = 1600\n"
     ]
    }
   ],
   "source": [
    "customer1 = BankAccount(1000)\n",
    "customer1.deposit(600)"
   ]
  },
  {
   "cell_type": "code",
   "execution_count": 132,
   "id": "4a0095db-77b0-47c8-abb4-cbd978ee35b7",
   "metadata": {},
   "outputs": [
    {
     "name": "stdout",
     "output_type": "stream",
     "text": [
      "withdraw successfull : balance = 1200\n"
     ]
    }
   ],
   "source": [
    "customer1.withdraw(400)"
   ]
  },
  {
   "cell_type": "markdown",
   "id": "1dd48fee-6247-4159-b9f3-68bd5ee9b791",
   "metadata": {},
   "source": [
    "###  11. Write a class that overrides the `__str__` and `__add__` magic methods. What will these methods allow you to do?"
   ]
  },
  {
   "cell_type": "code",
   "execution_count": 144,
   "id": "f244e05a-95c2-46cf-93f5-2418d2947274",
   "metadata": {},
   "outputs": [
    {
     "name": "stdout",
     "output_type": "stream",
     "text": [
      "MyClass with value: 10\n",
      "MyClass with value: 20\n",
      "MyClass with value: 30\n"
     ]
    }
   ],
   "source": [
    "class MyClass:\n",
    "    def __init__(self, value):\n",
    "        self.value = value\n",
    "\n",
    "    def __str__(self):\n",
    "        return f\"MyClass with value: {self.value}\"\n",
    "\n",
    "    def __add__(self, other):\n",
    "        if isinstance(other, MyClass):\n",
    "            return MyClass(self.value + other.value)\n",
    "        return NotImplemented\n",
    "\n",
    "obj1 = MyClass(10)\n",
    "obj2 = MyClass(20)\n",
    "obj3 = obj1 + obj2\n",
    "\n",
    "print(obj1)\n",
    "print(obj2) \n",
    "print(obj3)\n"
   ]
  },
  {
   "cell_type": "markdown",
   "id": "a902557e-4b3b-4ca5-a11f-f28c345472c2",
   "metadata": {},
   "source": [
    "### 12.  Create a decorator that measures and prints the execution time of a function."
   ]
  },
  {
   "cell_type": "code",
   "execution_count": 145,
   "id": "915e1a8b-818e-48f5-8798-d5408d3d2878",
   "metadata": {},
   "outputs": [
    {
     "name": "stdout",
     "output_type": "stream",
     "text": [
      "2310600000\n",
      "Time required for executing the code is : 0.0\n"
     ]
    }
   ],
   "source": [
    "import time\n",
    "def time_decorator(function):\n",
    "    def timer():\n",
    "        start = time.time()\n",
    "        function()\n",
    "        end = time.time()\n",
    "        print(\"Time required for executing the code is :\", end-start)\n",
    "    return timer\n",
    "\n",
    "@time_decorator\n",
    "def function1():\n",
    "    print(100000 * 23106)\n",
    "\n",
    "function1()"
   ]
  },
  {
   "cell_type": "markdown",
   "id": "77dd56cd-b45b-403d-87b8-763da350d1ee",
   "metadata": {},
   "source": [
    "### 13. Explain the concept of the Diamond Problem in multiple inheritance. How does Python resolve it?"
   ]
  },
  {
   "cell_type": "code",
   "execution_count": 146,
   "id": "425aa049-a453-4ee7-8314-c469a10f23e4",
   "metadata": {},
   "outputs": [],
   "source": [
    "#Ans Diamond problem is an well known issue in multiple inheritance\n",
    "# it occurs when a class inherits from 2 or more then 2 superclasses which leads to ambiguity in execution of method resolution\n",
    "\n",
    "# To mitigate this diamond problem python used MRO i.e. method resolution order algorithm called c3 linearisation\n",
    "# It simply means the order in which python looks for a method in hierarchy of classes. \n",
    "# It means the class which is inherited first in the derieved class will be executed"
   ]
  },
  {
   "cell_type": "markdown",
   "id": "ae862c11-fc5a-4580-ad25-924788483bad",
   "metadata": {},
   "source": [
    "### 14. Write a class method that keeps track of the number of instances created from a class."
   ]
  },
  {
   "cell_type": "code",
   "execution_count": 147,
   "id": "f24ece6f-906c-43b5-8582-90fb776aaf85",
   "metadata": {},
   "outputs": [
    {
     "data": {
      "text/plain": [
       "3"
      ]
     },
     "execution_count": 147,
     "metadata": {},
     "output_type": "execute_result"
    }
   ],
   "source": [
    "class InstanceCounter:\n",
    "    instance_count = 0\n",
    "\n",
    "    def __init__(self):\n",
    "        InstanceCounter.instance_count += 1\n",
    "\n",
    "    @classmethod\n",
    "    def get_instance_count(cls):\n",
    "        return cls.instance_count\n",
    "\n",
    "object1 = InstanceCounter()\n",
    "object2 = InstanceCounter()\n",
    "object3 = InstanceCounter()\n",
    "\n",
    "InstanceCounter.get_instance_count()"
   ]
  },
  {
   "cell_type": "markdown",
   "id": "7ebc8c73-8824-44c3-a998-7951ff771749",
   "metadata": {},
   "source": [
    " ### 15. Implement a static method in a class that checks if a given year is a leap year."
   ]
  },
  {
   "cell_type": "code",
   "execution_count": 148,
   "id": "2aacb5d3-176d-443f-8172-22ea19d5ebf5",
   "metadata": {},
   "outputs": [
    {
     "data": {
      "text/plain": [
       "'its not a leap year'"
      ]
     },
     "execution_count": 148,
     "metadata": {},
     "output_type": "execute_result"
    }
   ],
   "source": [
    "class YearCheck:\n",
    "    @staticmethod\n",
    "    def is_leap_year(year):\n",
    "        if (year % 4 == 0 and year % 100 != 0) or (year % 400 == 0):\n",
    "            return \"its a leap year\"\n",
    "        return \"its not a leap year\"\n",
    "\n",
    "\n",
    "YearCheck.is_leap_year(2022)\n"
   ]
  },
  {
   "cell_type": "code",
   "execution_count": null,
   "id": "a4091543-d761-450f-bfde-089809580bcd",
   "metadata": {},
   "outputs": [],
   "source": []
  }
 ],
 "metadata": {
  "kernelspec": {
   "display_name": "Python 3 (ipykernel)",
   "language": "python",
   "name": "python3"
  },
  "language_info": {
   "codemirror_mode": {
    "name": "ipython",
    "version": 3
   },
   "file_extension": ".py",
   "mimetype": "text/x-python",
   "name": "python",
   "nbconvert_exporter": "python",
   "pygments_lexer": "ipython3",
   "version": "3.12.7"
  }
 },
 "nbformat": 4,
 "nbformat_minor": 5
}
